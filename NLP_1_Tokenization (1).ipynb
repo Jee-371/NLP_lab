{
  "nbformat": 4,
  "nbformat_minor": 0,
  "metadata": {
    "colab": {
      "provenance": []
    },
    "kernelspec": {
      "name": "python3",
      "display_name": "Python 3"
    },
    "language_info": {
      "name": "python"
    }
  },
  "cells": [
    {
      "cell_type": "markdown",
      "source": [
        "Tokenization"
      ],
      "metadata": {
        "id": "16Rt_rdyYn2_"
      }
    },
    {
      "cell_type": "code",
      "execution_count": 1,
      "metadata": {
        "colab": {
          "base_uri": "https://localhost:8080/"
        },
        "id": "YoLnmrKHYarb",
        "outputId": "0c9fdfed-7083-4938-df0a-75d2b7086da2"
      },
      "outputs": [
        {
          "output_type": "stream",
          "name": "stdout",
          "text": [
            "Requirement already satisfied: nltk in /usr/local/lib/python3.10/dist-packages (3.8.1)\n",
            "Requirement already satisfied: click in /usr/local/lib/python3.10/dist-packages (from nltk) (8.1.7)\n",
            "Requirement already satisfied: joblib in /usr/local/lib/python3.10/dist-packages (from nltk) (1.3.2)\n",
            "Requirement already satisfied: regex>=2021.8.3 in /usr/local/lib/python3.10/dist-packages (from nltk) (2023.12.25)\n",
            "Requirement already satisfied: tqdm in /usr/local/lib/python3.10/dist-packages (from nltk) (4.66.1)\n"
          ]
        },
        {
          "output_type": "stream",
          "name": "stderr",
          "text": [
            "[nltk_data] Downloading package punkt to /root/nltk_data...\n",
            "[nltk_data]   Unzipping tokenizers/punkt.zip.\n"
          ]
        }
      ],
      "source": [
        "!pip install nltk\n",
        "import nltk\n",
        "nltk.download('punkt')\n",
        "from nltk import word_tokenize"
      ]
    },
    {
      "cell_type": "code",
      "source": [
        "x = \"Where there is a will there is a way\"\n",
        "word_tokenize(x)"
      ],
      "metadata": {
        "colab": {
          "base_uri": "https://localhost:8080/"
        },
        "id": "YWvh10yzZxI5",
        "outputId": "90fbfdc7-d67f-4a25-a5ba-cf3896d01120"
      },
      "execution_count": 2,
      "outputs": [
        {
          "output_type": "execute_result",
          "data": {
            "text/plain": [
              "['Where', 'there', 'is', 'a', 'will', 'there', 'is', 'a', 'way']"
            ]
          },
          "metadata": {},
          "execution_count": 2
        }
      ]
    },
    {
      "cell_type": "code",
      "source": [
        "from nltk.tokenize import WordPunctTokenizer\n",
        "WordPunctTokenizer().tokenize(x)"
      ],
      "metadata": {
        "colab": {
          "base_uri": "https://localhost:8080/"
        },
        "id": "483MucMcZxLn",
        "outputId": "999b3207-0077-49b4-d36a-d671c7c3b045"
      },
      "execution_count": 3,
      "outputs": [
        {
          "output_type": "execute_result",
          "data": {
            "text/plain": [
              "['Where', 'there', 'is', 'a', 'will', 'there', 'is', 'a', 'way']"
            ]
          },
          "metadata": {},
          "execution_count": 3
        }
      ]
    },
    {
      "cell_type": "code",
      "source": [
        "from nltk.tokenize import RegexpTokenizer\n",
        "RegexpTokenizer(\"[\\w]+\").tokenize(x)"
      ],
      "metadata": {
        "colab": {
          "base_uri": "https://localhost:8080/"
        },
        "id": "7MxcxrK9ZxOr",
        "outputId": "bf8727a1-1e0e-4673-98e2-96d2989baba0"
      },
      "execution_count": 4,
      "outputs": [
        {
          "output_type": "execute_result",
          "data": {
            "text/plain": [
              "['Where', 'there', 'is', 'a', 'will', 'there', 'is', 'a', 'way']"
            ]
          },
          "metadata": {},
          "execution_count": 4
        }
      ]
    },
    {
      "cell_type": "code",
      "source": [
        "from nltk.tokenize import sent_tokenize\n",
        "y = \"A paragraph is a series of sentences that are organized and coherent, and are all related to a single topic. Almost every piece of writing you do that is longer than a few sentences should be organized into paragraphs. This is because paragraphs show a reader where the subdivisions of an essay begin and end, and thus help the reader see the organization of the essay and grasp its main points.\""
      ],
      "metadata": {
        "id": "tw-SmrcqZxSG"
      },
      "execution_count": 9,
      "outputs": []
    },
    {
      "cell_type": "code",
      "source": [
        "sent_tokenize(y)"
      ],
      "metadata": {
        "colab": {
          "base_uri": "https://localhost:8080/"
        },
        "id": "9nEUo_ZzZ5Dw",
        "outputId": "3a07fc5c-a552-45ec-f409-909c2a86ee6f"
      },
      "execution_count": 10,
      "outputs": [
        {
          "output_type": "execute_result",
          "data": {
            "text/plain": [
              "['A paragraph is a series of sentences that are organized and coherent, and are all related to a single topic.',\n",
              " 'Almost every piece of writing you do that is longer than a few sentences should be organized into paragraphs.',\n",
              " 'This is because paragraphs show a reader where the subdivisions of an essay begin and end, and thus help the reader see the organization of the essay and grasp its main points.']"
            ]
          },
          "metadata": {},
          "execution_count": 10
        }
      ]
    },
    {
      "cell_type": "code",
      "source": [
        "word_tokenize(y)"
      ],
      "metadata": {
        "colab": {
          "base_uri": "https://localhost:8080/"
        },
        "id": "UDaED-_HZ7Xy",
        "outputId": "b2a3b215-e61c-4919-a7b1-d1f555d66fb1"
      },
      "execution_count": 11,
      "outputs": [
        {
          "output_type": "execute_result",
          "data": {
            "text/plain": [
              "['A',\n",
              " 'paragraph',\n",
              " 'is',\n",
              " 'a',\n",
              " 'series',\n",
              " 'of',\n",
              " 'sentences',\n",
              " 'that',\n",
              " 'are',\n",
              " 'organized',\n",
              " 'and',\n",
              " 'coherent',\n",
              " ',',\n",
              " 'and',\n",
              " 'are',\n",
              " 'all',\n",
              " 'related',\n",
              " 'to',\n",
              " 'a',\n",
              " 'single',\n",
              " 'topic',\n",
              " '.',\n",
              " 'Almost',\n",
              " 'every',\n",
              " 'piece',\n",
              " 'of',\n",
              " 'writing',\n",
              " 'you',\n",
              " 'do',\n",
              " 'that',\n",
              " 'is',\n",
              " 'longer',\n",
              " 'than',\n",
              " 'a',\n",
              " 'few',\n",
              " 'sentences',\n",
              " 'should',\n",
              " 'be',\n",
              " 'organized',\n",
              " 'into',\n",
              " 'paragraphs',\n",
              " '.',\n",
              " 'This',\n",
              " 'is',\n",
              " 'because',\n",
              " 'paragraphs',\n",
              " 'show',\n",
              " 'a',\n",
              " 'reader',\n",
              " 'where',\n",
              " 'the',\n",
              " 'subdivisions',\n",
              " 'of',\n",
              " 'an',\n",
              " 'essay',\n",
              " 'begin',\n",
              " 'and',\n",
              " 'end',\n",
              " ',',\n",
              " 'and',\n",
              " 'thus',\n",
              " 'help',\n",
              " 'the',\n",
              " 'reader',\n",
              " 'see',\n",
              " 'the',\n",
              " 'organization',\n",
              " 'of',\n",
              " 'the',\n",
              " 'essay',\n",
              " 'and',\n",
              " 'grasp',\n",
              " 'its',\n",
              " 'main',\n",
              " 'points',\n",
              " '.']"
            ]
          },
          "metadata": {},
          "execution_count": 11
        }
      ]
    },
    {
      "cell_type": "code",
      "source": [
        "#using split function\n",
        "print(x.split())"
      ],
      "metadata": {
        "colab": {
          "base_uri": "https://localhost:8080/"
        },
        "id": "qwsA8np_aejx",
        "outputId": "cd7ad495-4e63-4082-f59d-bde0632f8824"
      },
      "execution_count": 12,
      "outputs": [
        {
          "output_type": "stream",
          "name": "stdout",
          "text": [
            "['Where', 'there', 'is', 'a', 'will', 'there', 'is', 'a', 'way']\n"
          ]
        }
      ]
    },
    {
      "cell_type": "code",
      "source": [
        "word_tokenize(x)"
      ],
      "metadata": {
        "colab": {
          "base_uri": "https://localhost:8080/"
        },
        "id": "RFtRhbjqcY-o",
        "outputId": "81b57068-23d4-403a-cc85-605a28011a25"
      },
      "execution_count": 13,
      "outputs": [
        {
          "output_type": "execute_result",
          "data": {
            "text/plain": [
              "['Where', 'there', 'is', 'a', 'will', 'there', 'is', 'a', 'way']"
            ]
          },
          "metadata": {},
          "execution_count": 13
        }
      ]
    },
    {
      "cell_type": "code",
      "source": [],
      "metadata": {
        "id": "XYYdVP4OcdYS"
      },
      "execution_count": null,
      "outputs": []
    }
  ]
}