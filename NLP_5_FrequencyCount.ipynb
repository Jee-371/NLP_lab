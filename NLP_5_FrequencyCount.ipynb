{
  "nbformat": 4,
  "nbformat_minor": 0,
  "metadata": {
    "colab": {
      "provenance": []
    },
    "kernelspec": {
      "name": "python3",
      "display_name": "Python 3"
    },
    "language_info": {
      "name": "python"
    }
  },
  "cells": [
    {
      "cell_type": "code",
      "execution_count": 11,
      "metadata": {
        "id": "9wQvatewzrER"
      },
      "outputs": [],
      "source": [
        "from collections import Counter\n",
        "from nltk.corpus import stopwords"
      ]
    },
    {
      "cell_type": "code",
      "source": [
        "!pip install nltk\n",
        "import nltk"
      ],
      "metadata": {
        "colab": {
          "base_uri": "https://localhost:8080/"
        },
        "id": "gD2-okIk1etn",
        "outputId": "22bdbc7c-fd07-49d0-93d2-b19f3b13677a"
      },
      "execution_count": 15,
      "outputs": [
        {
          "output_type": "stream",
          "name": "stdout",
          "text": [
            "Requirement already satisfied: nltk in /usr/local/lib/python3.10/dist-packages (3.8.1)\n",
            "Requirement already satisfied: click in /usr/local/lib/python3.10/dist-packages (from nltk) (8.1.7)\n",
            "Requirement already satisfied: joblib in /usr/local/lib/python3.10/dist-packages (from nltk) (1.3.2)\n",
            "Requirement already satisfied: regex>=2021.8.3 in /usr/local/lib/python3.10/dist-packages (from nltk) (2023.12.25)\n",
            "Requirement already satisfied: tqdm in /usr/local/lib/python3.10/dist-packages (from nltk) (4.66.2)\n"
          ]
        }
      ]
    },
    {
      "cell_type": "code",
      "source": [
        "nltk.download('stopwords')\n",
        "stop_words = stopwords.words('english')"
      ],
      "metadata": {
        "colab": {
          "base_uri": "https://localhost:8080/"
        },
        "id": "XztVcwhI1O3t",
        "outputId": "b2c62b7e-2cbe-4d29-f80e-73944ea29043"
      },
      "execution_count": 16,
      "outputs": [
        {
          "output_type": "stream",
          "name": "stderr",
          "text": [
            "[nltk_data] Downloading package stopwords to /root/nltk_data...\n",
            "[nltk_data]   Unzipping corpora/stopwords.zip.\n"
          ]
        }
      ]
    },
    {
      "cell_type": "code",
      "source": [
        "sentence = \"\"\"\"\n",
        "Hercules, son of Zeus, wasn't born a hero. He was a sickly child, plagued by weakness thanks to a curse by Hera, Zeus' jealous wife. But within him burned the spark of a god.\n",
        "\n",
        "One day, two serpents sent by Hera slithered into his crib. In a burst of strength fueled by rage, Hercules strangled them both. Witnessing this, his parents knew his true potential.\n",
        "\n",
        "Years passed, and with the help of trainers, Hercules grew into a mountain of a man. He mastered every weapon, wrestled centaurs, and outran bulls. But the curse lingered, leaving him prone to rash decisions.\n",
        "\n",
        "His first trial arrived in the form of King Augeas' stables. Thousands of cattle had filled them for years, and the stench choked the land. Hercules, known for his strength, was tasked with cleaning them in a single day. He roared with laughter. He diverted a river, washing away the filth in a torrent.\n",
        "\n",
        "King Eurystheus, jealous of Hercules' divine heritage, devised twelve impossible tasks to break him. Hercules faced the nine-headed Hydra, whose severed heads regenerated. He wrestled the Erymanthian Boar, carrying it high on his shoulder. He even journeyed to the Underworld, capturing Cerberus, the three-headed guard dog.\n",
        "\n",
        "Each task tested Hercules' strength, wit, and cunning. He learned to rely not just on brute force but also on strategy and improvisation. He befriended others, like Atlas, who held the weight of the world, for a moment, allowing him to steal the golden apples of Hesperides.\n",
        "\n",
        "Finally, Hercules completed the tasks. He was free. But his quest had changed him. He was no longer a brash youth, but a seasoned hero. He had faced his limitations, conquered his inner demons, and become a symbol of courage and perseverance. His legend would forever be etched in the stars. \"\"\""
      ],
      "metadata": {
        "id": "Io_QIvDlzxHM"
      },
      "execution_count": 17,
      "outputs": []
    },
    {
      "cell_type": "code",
      "source": [
        "stop_words = stopwords.words('english')\n",
        "words = [word.lower() for word in sentence.split() if word.isalpha()]\n",
        "filtered_words = [word for word in words if word not in stop_words]\n",
        "word_counts = Counter(filtered_words)"
      ],
      "metadata": {
        "id": "Sjk6SFvKzxJ7"
      },
      "execution_count": 18,
      "outputs": []
    },
    {
      "cell_type": "code",
      "source": [
        "print(\"Word Frequency Table:\")\n",
        "print(\"{:<20} {:>5}\".format(\"Word\", \"Count\"))\n",
        "print(\"-\" * 25)\n",
        "for word, count in word_counts.most_common(10):\n",
        "  print(\"{:<20} {:>5}\".format(word, count))\n"
      ],
      "metadata": {
        "colab": {
          "base_uri": "https://localhost:8080/"
        },
        "id": "pr0Lkv0hzxNM",
        "outputId": "0b616a22-b9bd-4f44-ff9f-875a36e73059"
      },
      "execution_count": 21,
      "outputs": [
        {
          "output_type": "stream",
          "name": "stdout",
          "text": [
            "Word Frequency Table:\n",
            "Word                 Count\n",
            "-------------------------\n",
            "hercules                 4\n",
            "curse                    2\n",
            "jealous                  2\n",
            "wrestled                 2\n",
            "king                     2\n",
            "faced                    2\n",
            "son                      1\n",
            "born                     1\n",
            "sickly                   1\n",
            "plagued                  1\n"
          ]
        }
      ]
    }
  ]
}