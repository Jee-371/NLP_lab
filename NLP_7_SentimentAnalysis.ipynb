{
  "nbformat": 4,
  "nbformat_minor": 0,
  "metadata": {
    "colab": {
      "provenance": []
    },
    "kernelspec": {
      "name": "python3",
      "display_name": "Python 3"
    },
    "language_info": {
      "name": "python"
    }
  },
  "cells": [
    {
      "cell_type": "code",
      "source": [
        "import nltk"
      ],
      "metadata": {
        "id": "vyUH5jWu7D1Y"
      },
      "execution_count": 2,
      "outputs": []
    },
    {
      "cell_type": "code",
      "execution_count": 3,
      "metadata": {
        "colab": {
          "base_uri": "https://localhost:8080/"
        },
        "id": "WI7Hg3Cd6Ujl",
        "outputId": "2219eb9f-8a90-487e-9c31-a89ccb7c5bae"
      },
      "outputs": [
        {
          "output_type": "stream",
          "name": "stderr",
          "text": [
            "[nltk_data] Downloading package stopwords to /root/nltk_data...\n",
            "[nltk_data]   Unzipping corpora/stopwords.zip.\n"
          ]
        },
        {
          "output_type": "execute_result",
          "data": {
            "text/plain": [
              "True"
            ]
          },
          "metadata": {},
          "execution_count": 3
        }
      ],
      "source": [
        "import pandas as pd\n",
        "from nltk.sentiment.vader import SentimentIntensityAnalyzer\n",
        "from nltk.corpus import stopwords\n",
        "from sklearn.model_selection import train_test_split\n",
        "\n",
        "nltk.download('stopwords')"
      ]
    },
    {
      "cell_type": "code",
      "source": [
        "def clean_text(text):\n",
        "  \"\"\"\n",
        "  Cleans text data for sentiment analysis.\n",
        "\n",
        "  Args:\n",
        "      text (str): The text to be cleaned.\n",
        "\n",
        "  Returns:\n",
        "      str: The cleaned text.\n",
        "  \"\"\"\n",
        "\n",
        "  text = text.lower()\n",
        "  text = ''.join([char for char in text if char.isalpha() or char == ' '])\n",
        "  stop_words = stopwords.words('english')\n",
        "  text = [word for word in text.split() if word not in stop_words]\n",
        "  text = ' '.join(text)\n",
        "  return text"
      ],
      "metadata": {
        "id": "HTrVnxLP6oKQ"
      },
      "execution_count": 4,
      "outputs": []
    },
    {
      "cell_type": "code",
      "source": [
        "data = pd.read_csv('/content/IMDB Dataset.csv')\n",
        "\n",
        "data['review'] = data['review'].apply(clean_text)\n",
        "X_train, X_test, y_train, y_test = train_test_split(data['review'], data['sentiment'], test_size=0.2, random_state=42)\n",
        "\n"
      ],
      "metadata": {
        "id": "N1CpTv3e6q24"
      },
      "execution_count": 5,
      "outputs": []
    },
    {
      "cell_type": "code",
      "source": [
        "nltk.download('vader_lexicon')"
      ],
      "metadata": {
        "colab": {
          "base_uri": "https://localhost:8080/"
        },
        "id": "ealHP-6h91xg",
        "outputId": "0870651e-354c-4e0e-fb21-37a367272295"
      },
      "execution_count": 7,
      "outputs": [
        {
          "output_type": "stream",
          "name": "stderr",
          "text": [
            "[nltk_data] Downloading package vader_lexicon to /root/nltk_data...\n"
          ]
        },
        {
          "output_type": "execute_result",
          "data": {
            "text/plain": [
              "True"
            ]
          },
          "metadata": {},
          "execution_count": 7
        }
      ]
    },
    {
      "cell_type": "code",
      "source": [
        "analyzer = SentimentIntensityAnalyzer()\n",
        "\n",
        "def analyze_sentiment(text):\n",
        "  \"\"\"\n",
        "  Analyzes the sentiment of a text using VADER.\n",
        "\n",
        "  Args:\n",
        "      text (str): The text to be analyzed.\n",
        "\n",
        "  Returns:\n",
        "      str: The dominant sentiment (positive, negative, or neutral).\n",
        "  \"\"\"\n",
        "  scores = analyzer.polarity_scores(text)\n",
        "  if scores['compound'] >= 0.05:\n",
        "    return 'positive'\n",
        "  elif scores['compound'] <= -0.05:\n",
        "    return 'negative'\n",
        "  else:\n",
        "    return 'neutral'"
      ],
      "metadata": {
        "id": "lmWL53im6s_c"
      },
      "execution_count": 8,
      "outputs": []
    },
    {
      "cell_type": "code",
      "source": [
        "y_train_predicted = [analyze_sentiment(text) for text in X_train]\n",
        "\n",
        "from sklearn.metrics import accuracy_score\n",
        "accuracy = accuracy_score(y_train, y_train_predicted)\n",
        "print(f\"Accuracy on Training Set: {accuracy:.2f}\")\n",
        "\n"
      ],
      "metadata": {
        "colab": {
          "base_uri": "https://localhost:8080/"
        },
        "id": "SD-SG2XA6tCc",
        "outputId": "ee23a746-7f68-48da-e8bd-79df297dc680"
      },
      "execution_count": 9,
      "outputs": [
        {
          "output_type": "stream",
          "name": "stdout",
          "text": [
            "Accuracy on Training Set: 0.67\n"
          ]
        }
      ]
    },
    {
      "cell_type": "code",
      "source": [
        "new_review = \"\"\"\n",
        "Manjummel Boys\" is a heartfelt tribute to friendship, weaving a compelling tale based on a real story. The extraordinary efforts, especially in recreating the 900-feet Guna Cave set, showcase a commitment to authenticity. Director Chidambaram S Poduval's vision and the stellar performances by Sreenath Bashi and Soubin Sagar make this film an outstanding and emotionally resonant journey. Kudos to the team for their dedication, encouraging both filmmakers and audiences alike. \"Manjummel Boys\" is a cinematic gem that captures the magic of genuine connections.\n",
        "\"\"\""
      ],
      "metadata": {
        "id": "hX1Y6Uyx-Exi"
      },
      "execution_count": 11,
      "outputs": []
    },
    {
      "cell_type": "code",
      "source": [
        "sentiment = analyzer.polarity_scores(clean_text(new_review))['compound']\n",
        "if sentiment > 0.5:\n",
        "  print(\"Review: Positive\")\n",
        "elif sentiment <= 0.5:\n",
        "  print(\"Review: Negative\")\n",
        "else:\n",
        "  print(\"Review: Neutral\")\n",
        "\n",
        "print(\"Polarity: \",sentiment)"
      ],
      "metadata": {
        "colab": {
          "base_uri": "https://localhost:8080/"
        },
        "id": "LVH_aoUK955_",
        "outputId": "77df8dee-228c-4857-9d08-4b3fd4a63db0"
      },
      "execution_count": 15,
      "outputs": [
        {
          "output_type": "stream",
          "name": "stdout",
          "text": [
            "Review: Positive\n",
            "Polarity:  0.9705\n"
          ]
        }
      ]
    }
  ]
}