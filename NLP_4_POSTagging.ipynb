{
  "nbformat": 4,
  "nbformat_minor": 0,
  "metadata": {
    "colab": {
      "provenance": []
    },
    "kernelspec": {
      "name": "python3",
      "display_name": "Python 3"
    },
    "language_info": {
      "name": "python"
    }
  },
  "cells": [
    {
      "cell_type": "code",
      "execution_count": 1,
      "metadata": {
        "id": "OsvfbJ1-v8BI"
      },
      "outputs": [],
      "source": [
        "import nltk"
      ]
    },
    {
      "cell_type": "code",
      "source": [
        "nltk.download('punkt')\n",
        "nltk.download('averaged_perceptron_tagger')"
      ],
      "metadata": {
        "colab": {
          "base_uri": "https://localhost:8080/"
        },
        "id": "xAFulY0Cv8gN",
        "outputId": "488b182d-cb73-4167-ef8b-8767fb2a36b1"
      },
      "execution_count": 2,
      "outputs": [
        {
          "output_type": "stream",
          "name": "stderr",
          "text": [
            "[nltk_data] Downloading package punkt to /root/nltk_data...\n",
            "[nltk_data]   Unzipping tokenizers/punkt.zip.\n",
            "[nltk_data] Downloading package averaged_perceptron_tagger to\n",
            "[nltk_data]     /root/nltk_data...\n",
            "[nltk_data]   Unzipping taggers/averaged_perceptron_tagger.zip.\n"
          ]
        },
        {
          "output_type": "execute_result",
          "data": {
            "text/plain": [
              "True"
            ]
          },
          "metadata": {},
          "execution_count": 2
        }
      ]
    },
    {
      "cell_type": "code",
      "source": [
        "from nltk.chunk import RegexpParser"
      ],
      "metadata": {
        "id": "dX2qGpt2v8jc"
      },
      "execution_count": 3,
      "outputs": []
    },
    {
      "cell_type": "code",
      "source": [
        "text = \"The future belongs to those who believe in the beauty of their dreams.\""
      ],
      "metadata": {
        "id": "kTS_3opuv8ms"
      },
      "execution_count": 4,
      "outputs": []
    },
    {
      "cell_type": "code",
      "source": [
        "tokenize = nltk.word_tokenize(text)\n",
        "tagged_tk = nltk.pos_tag(tokenize)"
      ],
      "metadata": {
        "id": "8L-jUxeTwBCz"
      },
      "execution_count": 5,
      "outputs": []
    },
    {
      "cell_type": "code",
      "source": [
        "print(\"POS tags: \")\n",
        "for token, tag in tagged_tk:\n",
        "  print(f\"- {token}/{tag}\")"
      ],
      "metadata": {
        "colab": {
          "base_uri": "https://localhost:8080/"
        },
        "id": "RpOGABFRwBFl",
        "outputId": "c3d20c5c-71dd-4475-ea50-94f627e2f423"
      },
      "execution_count": 6,
      "outputs": [
        {
          "output_type": "stream",
          "name": "stdout",
          "text": [
            "POS tags: \n",
            "- The/DT\n",
            "- future/JJ\n",
            "- belongs/NNS\n",
            "- to/TO\n",
            "- those/DT\n",
            "- who/WP\n",
            "- believe/VBP\n",
            "- in/IN\n",
            "- the/DT\n",
            "- beauty/NN\n",
            "- of/IN\n",
            "- their/PRP$\n",
            "- dreams/NNS\n",
            "- ./.\n"
          ]
        }
      ]
    },
    {
      "cell_type": "code",
      "source": [
        "grammar = r\"\"\"\n",
        "    NP: {<DT|JJ|NN.*>+}          # Chunk sequences of DT, JJ, NN\n",
        "    PP: {<IN><NP>}                # Chunk prepositions followed by NP\n",
        "    VP: {<VB.*><NP|PP|CLAUSE>+$}  # Chunk verbs and their arguments\n",
        "    CLAUSE: {<NP><VP>}            # Chunk NP, VP pairs\n",
        "\"\"\""
      ],
      "metadata": {
        "id": "N_-pAD77wFnP"
      },
      "execution_count": 7,
      "outputs": []
    },
    {
      "cell_type": "code",
      "source": [
        "chunk_parser = RegexpParser(grammar)\n",
        "chunked_sentence = chunk_parser.parse(tagged_tk)\n",
        "print(\"Chunked : \",chunked_sentence)"
      ],
      "metadata": {
        "colab": {
          "base_uri": "https://localhost:8080/"
        },
        "id": "PgMG1-7YwFqB",
        "outputId": "7e3db894-0a6f-424d-8638-de79c9ed1a99"
      },
      "execution_count": 8,
      "outputs": [
        {
          "output_type": "stream",
          "name": "stdout",
          "text": [
            "Chunked :  (S\n",
            "  (NP The/DT future/JJ belongs/NNS)\n",
            "  to/TO\n",
            "  (NP those/DT)\n",
            "  who/WP\n",
            "  believe/VBP\n",
            "  (PP in/IN (NP the/DT beauty/NN))\n",
            "  of/IN\n",
            "  their/PRP$\n",
            "  (NP dreams/NNS)\n",
            "  ./.)\n"
          ]
        }
      ]
    }
  ]
}