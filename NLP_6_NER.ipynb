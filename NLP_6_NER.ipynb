{
  "nbformat": 4,
  "nbformat_minor": 0,
  "metadata": {
    "colab": {
      "provenance": []
    },
    "kernelspec": {
      "name": "python3",
      "display_name": "Python 3"
    },
    "language_info": {
      "name": "python"
    }
  },
  "cells": [
    {
      "cell_type": "code",
      "execution_count": 1,
      "metadata": {
        "id": "EaB6B9iM2AAv"
      },
      "outputs": [],
      "source": [
        "import spacy"
      ]
    },
    {
      "cell_type": "code",
      "source": [
        "nlp = spacy.load(\"en_core_web_sm\")\n",
        "\n",
        "text = \"\"\"\n",
        "Rapunzel lived in a tower with an old woman named Gothel. One day, a thief named Flynn Rider climbed the tower.\n",
        "Rapunzel convinced Flynn to take her on an adventure. Gothel was furious when she found out.\n",
        "In the end, Rapunzel used her hair to heal Flynn and escaped the tower.\n",
        "\"\"\""
      ],
      "metadata": {
        "id": "N3ZhrH0F2Fm2"
      },
      "execution_count": 15,
      "outputs": []
    },
    {
      "cell_type": "code",
      "source": [
        "doc = nlp(text)\n",
        "\n",
        "characters = {}\n",
        "for entity in doc.ents:\n",
        "  if entity.label_ == \"PERSON\":\n",
        "    name = entity.text\n",
        "    if name in characters:\n",
        "      characters[name] += 1\n",
        "    else:\n",
        "      characters[name] = 1\n",
        "\n",
        "if characters:\n",
        "  most_frequent = max(characters, key=characters.get)\n",
        "  print(\"Most Frequent Character:\", most_frequent)\n",
        "else:\n",
        "  print(\"No characters found in the text.\")\n"
      ],
      "metadata": {
        "colab": {
          "base_uri": "https://localhost:8080/"
        },
        "id": "nvkU0xDY2Fsl",
        "outputId": "6a72f041-9216-46de-c0e0-3acfda663b72"
      },
      "execution_count": 20,
      "outputs": [
        {
          "output_type": "stream",
          "name": "stdout",
          "text": [
            "Most Frequent Character: Gothel\n"
          ]
        }
      ]
    },
    {
      "cell_type": "code",
      "source": [],
      "metadata": {
        "id": "4G05PHdS3SYF"
      },
      "execution_count": null,
      "outputs": []
    }
  ]
}